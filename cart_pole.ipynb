{
 "cells": [
  {
   "cell_type": "code",
   "execution_count": null,
   "metadata": {},
   "outputs": [],
   "source": [
    "import gym\n",
    "import time\n",
    "import math\n",
    "import numpy as np\n",
    "import random\n"
   ]
  },
  {
   "cell_type": "code",
   "execution_count": null,
   "metadata": {},
   "outputs": [],
   "source": [
    "env = gym.make(\"CartPole-v1\")"
   ]
  },
  {
   "cell_type": "code",
   "execution_count": null,
   "metadata": {},
   "outputs": [],
   "source": [
    "bucketno = (6, 3)\n",
    "totalAction = env.action_space.n\n",
    "lower_bound = [env.observation_space.low[2], -math.radians(50)]\n",
    "upper_bound = [env.observation_space.high[2], math.radians(50)]\n",
    "q_table = np.zeros(bucketno + (totalAction,))\n",
    "alpha = 0.9\n",
    "gamma = 0.2\n",
    "epsilon = 0.9\n",
    "max_episode = 200"
   ]
  },
  {
   "cell_type": "code",
   "execution_count": null,
   "metadata": {},
   "outputs": [],
   "source": [
    "from typing import Tuple\n",
    "from sklearn.preprocessing import KBinsDiscretizer\n",
    "\n",
    "def discretizer(_, __, angle, pole_velocity):\n",
    "    kbin = KBinsDiscretizer(n_bins=bucketno, encode=\"ordinal\", strategy=\"uniform\")\n",
    "    kbin.fit([lower_bound, upper_bound])\n",
    "    return tuple(map(int, (kbin.transform([[angle, pole_velocity]])[0])))"
   ]
  },
  {
   "cell_type": "code",
   "execution_count": null,
   "metadata": {},
   "outputs": [],
   "source": [
    "def action_selection(state, epsilon):\n",
    "    if random.random() < epsilon:\n",
    "        action = env.action_space.sample()\n",
    "    else:\n",
    "        action = np.argmax(q_table[state])\n",
    "    return action"
   ]
  },
  {
   "cell_type": "code",
   "execution_count": null,
   "metadata": {},
   "outputs": [],
   "source": [
    "def q_value_update(old_state, new_state, reward, action, alpha, gamma):\n",
    "    future_q_value = np.argmax(q_table[new_state])\n",
    "    old_state_value = q_table[old_state][action]\n",
    "    q_table[old_state] += alpha*(reward + gamma * future_q_value - old_state_value)"
   ]
  },
  {
   "cell_type": "code",
   "execution_count": null,
   "metadata": {},
   "outputs": [],
   "source": [
    "\n",
    "for v in range(max_episode):\n",
    "    obs = [f for f in env.reset()[0]]\n",
    "    initial_state = discretizer(*obs)\n",
    "    current_state = initial_state\n",
    "    total_reward = 0\n",
    "    done = False\n",
    "    while done == False:\n",
    "        action = action_selection(current_state, epsilon)\n",
    "        obs, reward, done, info, truncated = env.step(action)\n",
    "        new_state = discretizer(*obs)\n",
    "        q_value_update(current_state, new_state, reward, action, alpha, gamma)\n",
    "        current_state = new_state\n",
    "        env.render()\n",
    "        total_reward+= reward\n",
    "        print(total_reward)\n",
    "env.close()\n"
   ]
  }
 ],
 "metadata": {
  "language_info": {
   "name": "python"
  },
  "orig_nbformat": 4
 },
 "nbformat": 4,
 "nbformat_minor": 2
}
