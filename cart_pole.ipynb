{
 "cells": [
  {
   "cell_type": "code",
   "execution_count": null,
   "metadata": {},
   "outputs": [],
   "source": [
    "import gym\n",
    "import time\n",
    "import math\n",
    "import numpy as np\n",
    "import random\n",
    "import time\n"
   ]
  },
  {
   "cell_type": "code",
   "execution_count": null,
   "metadata": {},
   "outputs": [],
   "source": [
    "env = gym.make(\"CartPole-v1\", render_mode = \"human\")"
   ]
  },
  {
   "cell_type": "code",
   "execution_count": null,
   "metadata": {},
   "outputs": [],
   "source": [
    "gym.version.VERSION"
   ]
  },
  {
   "cell_type": "code",
   "execution_count": null,
   "metadata": {},
   "outputs": [],
   "source": [
    "bucketno = (6, 3)\n",
    "totalAction = env.action_space.n\n",
    "lower_bound = [env.observation_space.low[2], -math.radians(50)]\n",
    "upper_bound = [env.observation_space.high[2], math.radians(50)]\n",
    "q_table = np.zeros(bucketno + (totalAction,))\n",
    "gamma = 0.9\n",
    "max_episode = 10000\n",
    "solved_time = 199\n",
    "streak_to_end = 120\n",
    "no_streak = 0"
   ]
  },
  {
   "cell_type": "code",
   "execution_count": null,
   "metadata": {},
   "outputs": [],
   "source": [
    "from typing import Tuple\n",
    "from sklearn.preprocessing import KBinsDiscretizer\n",
    "\n",
    "def discretizer(_, __, angle, pole_velocity):\n",
    "    kbin = KBinsDiscretizer(n_bins=bucketno, encode=\"ordinal\", strategy=\"uniform\")\n",
    "    kbin.fit([lower_bound, upper_bound])\n",
    "    return tuple(map(int, (kbin.transform([[angle, pole_velocity]])[0])))"
   ]
  },
  {
   "cell_type": "code",
   "execution_count": null,
   "metadata": {},
   "outputs": [],
   "source": [
    "def action_selection(state, epsilon):\n",
    "    if random.random() < epsilon:\n",
    "        action = env.action_space.sample()\n",
    "    else:\n",
    "        action = np.argmax(q_table[state])\n",
    "    return action"
   ]
  },
  {
   "cell_type": "code",
   "execution_count": null,
   "metadata": {},
   "outputs": [],
   "source": [
    "def error(new_state, reward, gamma):\n",
    "    best_q_value = np.max(q_table[new_state])\n",
    "    error_value = reward + gamma * best_q_value\n",
    "    return error_value, best_q_value"
   ]
  },
  {
   "cell_type": "code",
   "execution_count": null,
   "metadata": {},
   "outputs": [],
   "source": [
    "def exploration_rate(n, min_rate = 0.01):\n",
    "    return max(min_rate, min(1.0, 1.0 - math.log10((n + 1)/25)))"
   ]
  },
  {
   "cell_type": "code",
   "execution_count": null,
   "metadata": {},
   "outputs": [],
   "source": [
    "def learning_rate(n, min_rate = 0.1):\n",
    "    return max(min_rate, min(1.0, 1.0 - math.log10((n+1)/25)))"
   ]
  },
  {
   "cell_type": "code",
   "execution_count": null,
   "metadata": {
    "scrolled": false
   },
   "outputs": [],
   "source": [
    "\n",
    "for v in range(max_episode):\n",
    "    obs = env.reset()[0]\n",
    "    time_step = 0\n",
    "    initial_state = discretizer(*obs)\n",
    "    current_state = initial_state\n",
    "    done = False\n",
    "    while done == False:\n",
    "        epsilon = exploration_rate(v)\n",
    "        action = action_selection(current_state, epsilon)\n",
    "        obs, reward, done, truncated, info= env.step(action)\n",
    "        new_state = discretizer(*obs)\n",
    "        error_value, best_q_value = error(new_state, reward, gamma = 1)\n",
    "        alpha = learning_rate(v)\n",
    "        old_q_value = q_table[current_state][action]\n",
    "        q_table[current_state][action] = (1-alpha) * old_q_value + alpha * error_value\n",
    "        current_state = new_state\n",
    "        time_step += 1\n",
    "        env.render()\n",
    "        print(\"The episode is {}.\".format(v))\n",
    "        print(\"Current state is {}\".format(current_state))\n",
    "        print(\"Action is {}\".format(action))\n",
    "        print(\"Error value is {}\".format(error_value))\n",
    "        print(\"Old q value is {}\".format(old_q_value))\n",
    "        print(\"Best q value is {}\".format(best_q_value))\n",
    "        print(\"Gamma value is {}\", gamma)   \n",
    "        print(\"Truncated is {}\", truncated)\n",
    "        \n",
    "\n",
    "        \n",
    "    if time_step >= solved_time:\n",
    "        no_streak += 1\n",
    "    else:\n",
    "        no_streak = 0\n",
    "    if no_streak > streak_to_end:\n",
    "        print('CartPole problem is solved after {} episodes'.format(v))\n",
    "        break\n",
    "env.close()\n"
   ]
  },
  {
   "cell_type": "code",
   "execution_count": null,
   "metadata": {
    "scrolled": true
   },
   "outputs": [],
   "source": []
  },
  {
   "cell_type": "code",
   "execution_count": null,
   "metadata": {},
   "outputs": [],
   "source": []
  }
 ],
 "metadata": {
  "kernelspec": {
   "display_name": "Python 3 (ipykernel)",
   "language": "python",
   "name": "python3"
  },
  "language_info": {
   "codemirror_mode": {
    "name": "ipython",
    "version": 3
   },
   "file_extension": ".py",
   "mimetype": "text/x-python",
   "name": "python",
   "nbconvert_exporter": "python",
   "pygments_lexer": "ipython3",
   "version": "3.8.3"
  }
 },
 "nbformat": 4,
 "nbformat_minor": 2
}
